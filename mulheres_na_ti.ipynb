{
  "nbformat": 4,
  "nbformat_minor": 0,
  "metadata": {
    "colab": {
      "name": "mulheres-na-ti.ipynb",
      "version": "0.3.2",
      "provenance": [],
      "include_colab_link": true
    },
    "kernelspec": {
      "name": "python3",
      "display_name": "Python 3"
    },
    "accelerator": "GPU"
  },
  "cells": [
    {
      "cell_type": "markdown",
      "metadata": {
        "id": "view-in-github",
        "colab_type": "text"
      },
      "source": [
        "<a href=\"https://colab.research.google.com/github/arcursino/mulheres-na-TI/blob/master/mulheres_na_ti.ipynb\" target=\"_parent\"><img src=\"https://colab.research.google.com/assets/colab-badge.svg\" alt=\"Open In Colab\"/></a>"
      ]
    },
    {
      "metadata": {
        "id": "rpFYuwDwIZFI",
        "colab_type": "text"
      },
      "cell_type": "markdown",
      "source": [
        ""
      ]
    },
    {
      "metadata": {
        "id": "Ka393MEuZUwc",
        "colab_type": "text"
      },
      "cell_type": "markdown",
      "source": [
        "O comando foi criado para usar o google drive como repositório dos arquivos a serem analisados."
      ]
    },
    {
      "metadata": {
        "id": "sVhJwHkInOqW",
        "colab_type": "code",
        "outputId": "8d688123-069e-4669-f41f-ae5095d206e9",
        "colab": {
          "base_uri": "https://localhost:8080/",
          "height": 34
        }
      },
      "cell_type": "code",
      "source": [
        "from google.colab import files\n",
        "#files.upload()\n",
        "\n",
        "from google.colab import auth, drive\n",
        "drive.mount('/content/gdrive')"
      ],
      "execution_count": 0,
      "outputs": [
        {
          "output_type": "stream",
          "text": [
            "Drive already mounted at /content/gdrive; to attempt to forcibly remount, call drive.mount(\"/content/gdrive\", force_remount=True).\n"
          ],
          "name": "stdout"
        }
      ]
    },
    {
      "metadata": {
        "id": "WR0gfmpPJitf",
        "colab_type": "text"
      },
      "cell_type": "markdown",
      "source": [
        "Para analise de dados foi utilizado a biblioteca pandas."
      ]
    },
    {
      "metadata": {
        "id": "0KgVfZRBwlwi",
        "colab_type": "code",
        "colab": {}
      },
      "cell_type": "code",
      "source": [
        "import pandas as pd"
      ],
      "execution_count": 0,
      "outputs": []
    },
    {
      "metadata": {
        "id": "0z_GBesSwkYn",
        "colab_type": "text"
      },
      "cell_type": "markdown",
      "source": [
        "O arquivo .csv disponibilizado pelo INEP usa o separador |, portanto é necessário acrescentar o parâmetro sep = \"|\".\n",
        "A função df.append foi criada para criar uma coluna (CURSO)com os anos analisados (2009 à 2016) ao dataframe.\n",
        "\n",
        "As informações estavam em arquivos separados e foi necessário unir as informações em apenas um dataframe. Foi utilizado o comando concat.\n"
      ]
    },
    {
      "metadata": {
        "id": "MBZZVbQhucs0",
        "colab_type": "code",
        "colab": {}
      },
      "cell_type": "code",
      "source": [
        "df2009 = pd.read_csv('/content/gdrive/My Drive/mulheres-na-ti/aluno-2009.csv', sep = \"|\")\n",
        "df2009['ANO'] = pd.Series(2009, index=df2009.index)\n",
        "\n",
        "df2010 = pd.read_csv('/content/gdrive/My Drive/mulheres-na-ti/aluno-2010.csv', sep = \"|\")\n",
        "df2010['ANO'] = pd.Series(2010, index=df2010.index)\n",
        "\n",
        "df2011 = pd.read_csv('/content/gdrive/My Drive/mulheres-na-ti/aluno-2011.csv', sep = \"|\")\n",
        "df2011['ANO'] = pd.Series(2011, index=df2011.index)\n",
        "\n",
        "df2012 = pd.read_csv('/content/gdrive/My Drive/mulheres-na-ti/aluno-2012.csv', sep = \"|\")\n",
        "df2012['ANO'] = pd.Series(2012, index=df2012.index)\n",
        "\n",
        "df2013 = pd.read_csv('/content/gdrive/My Drive/mulheres-na-ti/aluno-2013.csv', sep = \"|\")\n",
        "df2013['ANO'] = pd.Series(2013, index=df2013.index)\n",
        "\n",
        "df2014 = pd.read_csv('/content/gdrive/My Drive/mulheres-na-ti/aluno-2014.csv', sep = \"|\")\n",
        "df2014['ANO'] = pd.Series(2014, index=df2014.index)\n",
        "\n",
        "df2015 = pd.read_csv('/content/gdrive/My Drive/mulheres-na-ti/aluno-2015.csv', sep = \"|\")\n",
        "df2015['ANO'] = pd.Series(2015, index=df2015.index)\n",
        "\n",
        "df2016 = pd.read_csv('/content/gdrive/My Drive/mulheres-na-ti/aluno-2016.csv', sep = \"|\")\n",
        "df2016['ANO'] = pd.Series(2016, index=df2016.index)\n",
        "\n",
        "\n",
        "df = pd.concat([df2009, df2010, df2011, df2012, df2013, df2014, df2015, df2016])\n"
      ],
      "execution_count": 0,
      "outputs": []
    },
    {
      "metadata": {
        "id": "P9QSYitDLEkW",
        "colab_type": "text"
      },
      "cell_type": "markdown",
      "source": [
        "No arquivo inicial as informações sobre sexo estavam definidos com 0 ou 1, foi necessário rodar uma função definindo com masculino e feminino.\n",
        "Foi criada uma nova coluna sexo."
      ]
    },
    {
      "metadata": {
        "id": "amb0age92G76",
        "colab_type": "code",
        "colab": {}
      },
      "cell_type": "code",
      "source": [
        "def define_sexo(sex):\n",
        "    if sex == 0:\n",
        "        return 'Masculino'\n",
        "    elif sex == 1:\n",
        "        return 'Feminino'\n",
        "\n",
        "df['SEXO'] = df['IN_SEXO_ALUNO'].map(define_sexo)\n",
        "\n"
      ],
      "execution_count": 0,
      "outputs": []
    },
    {
      "metadata": {
        "id": "Sm6GVdrTMH_1",
        "colab_type": "text"
      },
      "cell_type": "markdown",
      "source": [
        "O nome do curso estava em um arquivo diferente. Foi necessário puxar o nome do curso desse arquivo e fazer uma biblioteca para padronizar a escrita."
      ]
    },
    {
      "metadata": {
        "id": "YcVF88-MkNWy",
        "colab_type": "code",
        "colab": {}
      },
      "cell_type": "code",
      "source": [
        "cc = dict()\n",
        "with open('/content/gdrive/My Drive/mulheres-na-ti/codigo-curso.csv', 'r', encoding='latin-1') as f:\n",
        "  for curso in f.readlines():\n",
        "    cod, nome = curso.split('|')\n",
        "    if cod == 'CO_CURSO':\n",
        "      continue\n",
        "    nome = nome.replace('\\n', '')\n",
        "    nome = nome.replace('Á', 'A').replace('Ã', 'A').replace('Â','A')\n",
        "    nome = nome.replace('É', 'E').replace('Ê', 'E')\n",
        "    nome = nome.replace('Í', 'I')\n",
        "    nome = nome.replace('Ó', 'O').replace('Õ', 'O').replace('Ô', 'O')\n",
        "    nome = nome.replace('Ú', 'U')\n",
        "    nome = nome.replace('Ç', 'C')\n",
        "    \n",
        "    cc[int(cod)] = nome"
      ],
      "execution_count": 0,
      "outputs": []
    },
    {
      "metadata": {
        "id": "1uI5Wq5NO54n",
        "colab_type": "text"
      },
      "cell_type": "markdown",
      "source": [
        "definição do codigo do curso e adição da coluna curso"
      ]
    },
    {
      "metadata": {
        "id": "XNT20pDe6hxR",
        "colab_type": "code",
        "colab": {}
      },
      "cell_type": "code",
      "source": [
        "def define_curso(codigo):\n",
        "  return cc[codigo]\n",
        "   \n",
        "\n",
        "df['CURSO'] = df['CO_CURSO'].map(define_curso)"
      ],
      "execution_count": 0,
      "outputs": []
    },
    {
      "metadata": {
        "id": "jfRPxCcXkCyV",
        "colab_type": "text"
      },
      "cell_type": "markdown",
      "source": [
        "A função head() para visualizar os primeiros itens do dataset"
      ]
    },
    {
      "metadata": {
        "id": "gqW1lJ1Qwjd-",
        "colab_type": "code",
        "outputId": "636926d0-5d0c-41c4-e39f-d2dfec099e6e",
        "colab": {
          "base_uri": "https://localhost:8080/",
          "height": 206
        }
      },
      "cell_type": "code",
      "source": [
        "df.head()"
      ],
      "execution_count": 0,
      "outputs": [
        {
          "output_type": "execute_result",
          "data": {
            "text/html": [
              "<div>\n",
              "<style scoped>\n",
              "    .dataframe tbody tr th:only-of-type {\n",
              "        vertical-align: middle;\n",
              "    }\n",
              "\n",
              "    .dataframe tbody tr th {\n",
              "        vertical-align: top;\n",
              "    }\n",
              "\n",
              "    .dataframe thead th {\n",
              "        text-align: right;\n",
              "    }\n",
              "</style>\n",
              "<table border=\"1\" class=\"dataframe\">\n",
              "  <thead>\n",
              "    <tr style=\"text-align: right;\">\n",
              "      <th></th>\n",
              "      <th>CO_CURSO</th>\n",
              "      <th>IN_SEXO_ALUNO</th>\n",
              "      <th>ANO</th>\n",
              "      <th>SEXO</th>\n",
              "      <th>CURSO</th>\n",
              "    </tr>\n",
              "  </thead>\n",
              "  <tbody>\n",
              "    <tr>\n",
              "      <th>0</th>\n",
              "      <td>18471</td>\n",
              "      <td>1</td>\n",
              "      <td>2009</td>\n",
              "      <td>Feminino</td>\n",
              "      <td>ARQUITETURA E URBANISMO</td>\n",
              "    </tr>\n",
              "    <tr>\n",
              "      <th>1</th>\n",
              "      <td>40171</td>\n",
              "      <td>0</td>\n",
              "      <td>2009</td>\n",
              "      <td>Masculino</td>\n",
              "      <td>ENGENHARIA DE COMPUTACAO NATAL AUTOMACAO INDUS...</td>\n",
              "    </tr>\n",
              "    <tr>\n",
              "      <th>2</th>\n",
              "      <td>82227</td>\n",
              "      <td>1</td>\n",
              "      <td>2009</td>\n",
              "      <td>Feminino</td>\n",
              "      <td>ODONTOLOGIA</td>\n",
              "    </tr>\n",
              "    <tr>\n",
              "      <th>3</th>\n",
              "      <td>15474</td>\n",
              "      <td>0</td>\n",
              "      <td>2009</td>\n",
              "      <td>Masculino</td>\n",
              "      <td>ADMINISTRACAO</td>\n",
              "    </tr>\n",
              "    <tr>\n",
              "      <th>4</th>\n",
              "      <td>86830</td>\n",
              "      <td>1</td>\n",
              "      <td>2009</td>\n",
              "      <td>Feminino</td>\n",
              "      <td>ENFERMAGEM</td>\n",
              "    </tr>\n",
              "  </tbody>\n",
              "</table>\n",
              "</div>"
            ],
            "text/plain": [
              "   CO_CURSO  IN_SEXO_ALUNO   ANO       SEXO  \\\n",
              "0     18471              1  2009   Feminino   \n",
              "1     40171              0  2009  Masculino   \n",
              "2     82227              1  2009   Feminino   \n",
              "3     15474              0  2009  Masculino   \n",
              "4     86830              1  2009   Feminino   \n",
              "\n",
              "                                               CURSO  \n",
              "0                            ARQUITETURA E URBANISMO  \n",
              "1  ENGENHARIA DE COMPUTACAO NATAL AUTOMACAO INDUS...  \n",
              "2                                        ODONTOLOGIA  \n",
              "3                                      ADMINISTRACAO  \n",
              "4                                         ENFERMAGEM  "
            ]
          },
          "metadata": {
            "tags": []
          },
          "execution_count": 8
        }
      ]
    },
    {
      "metadata": {
        "id": "eli2C1Gvjwyj",
        "colab_type": "text"
      },
      "cell_type": "markdown",
      "source": [
        " Para criar um novo dataframe apenas com as linhas dos cursos de TI."
      ]
    },
    {
      "metadata": {
        "id": "DTKJ3DYqHM9L",
        "colab_type": "code",
        "outputId": "d4d4416c-5f69-4c44-96a8-ca842feb35a0",
        "colab": {
          "base_uri": "https://localhost:8080/",
          "height": 1992
        }
      },
      "cell_type": "code",
      "source": [
        "data = (df.loc[df['CURSO'].isin(['INFORMATICA' , 'COMPUTACAO', 'ANALISE E DESENVOLVIMENTO DE SISTEMAS', 'TECNOLOGIA DA INFORMACAO'])])\n",
        "data"
      ],
      "execution_count": 0,
      "outputs": [
        {
          "output_type": "execute_result",
          "data": {
            "text/html": [
              "<div>\n",
              "<style scoped>\n",
              "    .dataframe tbody tr th:only-of-type {\n",
              "        vertical-align: middle;\n",
              "    }\n",
              "\n",
              "    .dataframe tbody tr th {\n",
              "        vertical-align: top;\n",
              "    }\n",
              "\n",
              "    .dataframe thead th {\n",
              "        text-align: right;\n",
              "    }\n",
              "</style>\n",
              "<table border=\"1\" class=\"dataframe\">\n",
              "  <thead>\n",
              "    <tr style=\"text-align: right;\">\n",
              "      <th></th>\n",
              "      <th>CO_CURSO</th>\n",
              "      <th>IN_SEXO_ALUNO</th>\n",
              "      <th>ANO</th>\n",
              "      <th>SEXO</th>\n",
              "      <th>CURSO</th>\n",
              "    </tr>\n",
              "  </thead>\n",
              "  <tbody>\n",
              "    <tr>\n",
              "      <th>149</th>\n",
              "      <td>120479</td>\n",
              "      <td>0</td>\n",
              "      <td>2009</td>\n",
              "      <td>Masculino</td>\n",
              "      <td>ANALISE E DESENVOLVIMENTO DE SISTEMAS</td>\n",
              "    </tr>\n",
              "    <tr>\n",
              "      <th>1412</th>\n",
              "      <td>59659</td>\n",
              "      <td>1</td>\n",
              "      <td>2009</td>\n",
              "      <td>Feminino</td>\n",
              "      <td>COMPUTACAO</td>\n",
              "    </tr>\n",
              "    <tr>\n",
              "      <th>3482</th>\n",
              "      <td>128292</td>\n",
              "      <td>1</td>\n",
              "      <td>2009</td>\n",
              "      <td>Feminino</td>\n",
              "      <td>ANALISE E DESENVOLVIMENTO DE SISTEMAS</td>\n",
              "    </tr>\n",
              "    <tr>\n",
              "      <th>3600</th>\n",
              "      <td>128292</td>\n",
              "      <td>0</td>\n",
              "      <td>2009</td>\n",
              "      <td>Masculino</td>\n",
              "      <td>ANALISE E DESENVOLVIMENTO DE SISTEMAS</td>\n",
              "    </tr>\n",
              "    <tr>\n",
              "      <th>3938</th>\n",
              "      <td>121227</td>\n",
              "      <td>1</td>\n",
              "      <td>2009</td>\n",
              "      <td>Feminino</td>\n",
              "      <td>INFORMATICA</td>\n",
              "    </tr>\n",
              "    <tr>\n",
              "      <th>4174</th>\n",
              "      <td>121227</td>\n",
              "      <td>0</td>\n",
              "      <td>2009</td>\n",
              "      <td>Masculino</td>\n",
              "      <td>INFORMATICA</td>\n",
              "    </tr>\n",
              "    <tr>\n",
              "      <th>4496</th>\n",
              "      <td>68065</td>\n",
              "      <td>0</td>\n",
              "      <td>2009</td>\n",
              "      <td>Masculino</td>\n",
              "      <td>COMPUTACAO</td>\n",
              "    </tr>\n",
              "    <tr>\n",
              "      <th>5404</th>\n",
              "      <td>128292</td>\n",
              "      <td>0</td>\n",
              "      <td>2009</td>\n",
              "      <td>Masculino</td>\n",
              "      <td>ANALISE E DESENVOLVIMENTO DE SISTEMAS</td>\n",
              "    </tr>\n",
              "    <tr>\n",
              "      <th>5635</th>\n",
              "      <td>121227</td>\n",
              "      <td>0</td>\n",
              "      <td>2009</td>\n",
              "      <td>Masculino</td>\n",
              "      <td>INFORMATICA</td>\n",
              "    </tr>\n",
              "    <tr>\n",
              "      <th>6205</th>\n",
              "      <td>121227</td>\n",
              "      <td>0</td>\n",
              "      <td>2009</td>\n",
              "      <td>Masculino</td>\n",
              "      <td>INFORMATICA</td>\n",
              "    </tr>\n",
              "    <tr>\n",
              "      <th>7654</th>\n",
              "      <td>121227</td>\n",
              "      <td>0</td>\n",
              "      <td>2009</td>\n",
              "      <td>Masculino</td>\n",
              "      <td>INFORMATICA</td>\n",
              "    </tr>\n",
              "    <tr>\n",
              "      <th>7987</th>\n",
              "      <td>121227</td>\n",
              "      <td>1</td>\n",
              "      <td>2009</td>\n",
              "      <td>Feminino</td>\n",
              "      <td>INFORMATICA</td>\n",
              "    </tr>\n",
              "    <tr>\n",
              "      <th>8089</th>\n",
              "      <td>113671</td>\n",
              "      <td>1</td>\n",
              "      <td>2009</td>\n",
              "      <td>Feminino</td>\n",
              "      <td>COMPUTACAO</td>\n",
              "    </tr>\n",
              "    <tr>\n",
              "      <th>8410</th>\n",
              "      <td>127511</td>\n",
              "      <td>0</td>\n",
              "      <td>2009</td>\n",
              "      <td>Masculino</td>\n",
              "      <td>COMPUTACAO</td>\n",
              "    </tr>\n",
              "    <tr>\n",
              "      <th>8513</th>\n",
              "      <td>111494</td>\n",
              "      <td>1</td>\n",
              "      <td>2009</td>\n",
              "      <td>Feminino</td>\n",
              "      <td>INFORMATICA</td>\n",
              "    </tr>\n",
              "    <tr>\n",
              "      <th>8600</th>\n",
              "      <td>60424</td>\n",
              "      <td>1</td>\n",
              "      <td>2009</td>\n",
              "      <td>Feminino</td>\n",
              "      <td>INFORMATICA</td>\n",
              "    </tr>\n",
              "    <tr>\n",
              "      <th>10075</th>\n",
              "      <td>121227</td>\n",
              "      <td>0</td>\n",
              "      <td>2009</td>\n",
              "      <td>Masculino</td>\n",
              "      <td>INFORMATICA</td>\n",
              "    </tr>\n",
              "    <tr>\n",
              "      <th>10650</th>\n",
              "      <td>121227</td>\n",
              "      <td>1</td>\n",
              "      <td>2009</td>\n",
              "      <td>Feminino</td>\n",
              "      <td>INFORMATICA</td>\n",
              "    </tr>\n",
              "    <tr>\n",
              "      <th>10965</th>\n",
              "      <td>121227</td>\n",
              "      <td>1</td>\n",
              "      <td>2009</td>\n",
              "      <td>Feminino</td>\n",
              "      <td>INFORMATICA</td>\n",
              "    </tr>\n",
              "    <tr>\n",
              "      <th>11612</th>\n",
              "      <td>121227</td>\n",
              "      <td>0</td>\n",
              "      <td>2009</td>\n",
              "      <td>Masculino</td>\n",
              "      <td>INFORMATICA</td>\n",
              "    </tr>\n",
              "    <tr>\n",
              "      <th>11716</th>\n",
              "      <td>121227</td>\n",
              "      <td>0</td>\n",
              "      <td>2009</td>\n",
              "      <td>Masculino</td>\n",
              "      <td>INFORMATICA</td>\n",
              "    </tr>\n",
              "    <tr>\n",
              "      <th>12464</th>\n",
              "      <td>128292</td>\n",
              "      <td>0</td>\n",
              "      <td>2009</td>\n",
              "      <td>Masculino</td>\n",
              "      <td>ANALISE E DESENVOLVIMENTO DE SISTEMAS</td>\n",
              "    </tr>\n",
              "    <tr>\n",
              "      <th>12643</th>\n",
              "      <td>121227</td>\n",
              "      <td>0</td>\n",
              "      <td>2009</td>\n",
              "      <td>Masculino</td>\n",
              "      <td>INFORMATICA</td>\n",
              "    </tr>\n",
              "    <tr>\n",
              "      <th>12843</th>\n",
              "      <td>111494</td>\n",
              "      <td>0</td>\n",
              "      <td>2009</td>\n",
              "      <td>Masculino</td>\n",
              "      <td>INFORMATICA</td>\n",
              "    </tr>\n",
              "    <tr>\n",
              "      <th>15614</th>\n",
              "      <td>121227</td>\n",
              "      <td>0</td>\n",
              "      <td>2009</td>\n",
              "      <td>Masculino</td>\n",
              "      <td>INFORMATICA</td>\n",
              "    </tr>\n",
              "    <tr>\n",
              "      <th>16302</th>\n",
              "      <td>111494</td>\n",
              "      <td>0</td>\n",
              "      <td>2009</td>\n",
              "      <td>Masculino</td>\n",
              "      <td>INFORMATICA</td>\n",
              "    </tr>\n",
              "    <tr>\n",
              "      <th>17651</th>\n",
              "      <td>91868</td>\n",
              "      <td>0</td>\n",
              "      <td>2009</td>\n",
              "      <td>Masculino</td>\n",
              "      <td>INFORMATICA</td>\n",
              "    </tr>\n",
              "    <tr>\n",
              "      <th>18587</th>\n",
              "      <td>70971</td>\n",
              "      <td>1</td>\n",
              "      <td>2009</td>\n",
              "      <td>Feminino</td>\n",
              "      <td>INFORMATICA</td>\n",
              "    </tr>\n",
              "    <tr>\n",
              "      <th>19996</th>\n",
              "      <td>75353</td>\n",
              "      <td>0</td>\n",
              "      <td>2009</td>\n",
              "      <td>Masculino</td>\n",
              "      <td>INFORMATICA</td>\n",
              "    </tr>\n",
              "    <tr>\n",
              "      <th>20505</th>\n",
              "      <td>121227</td>\n",
              "      <td>1</td>\n",
              "      <td>2009</td>\n",
              "      <td>Feminino</td>\n",
              "      <td>INFORMATICA</td>\n",
              "    </tr>\n",
              "    <tr>\n",
              "      <th>...</th>\n",
              "      <td>...</td>\n",
              "      <td>...</td>\n",
              "      <td>...</td>\n",
              "      <td>...</td>\n",
              "      <td>...</td>\n",
              "    </tr>\n",
              "    <tr>\n",
              "      <th>11449192</th>\n",
              "      <td>1386426</td>\n",
              "      <td>0</td>\n",
              "      <td>2016</td>\n",
              "      <td>Masculino</td>\n",
              "      <td>ANALISE E DESENVOLVIMENTO DE SISTEMAS</td>\n",
              "    </tr>\n",
              "    <tr>\n",
              "      <th>11449193</th>\n",
              "      <td>1386426</td>\n",
              "      <td>0</td>\n",
              "      <td>2016</td>\n",
              "      <td>Masculino</td>\n",
              "      <td>ANALISE E DESENVOLVIMENTO DE SISTEMAS</td>\n",
              "    </tr>\n",
              "    <tr>\n",
              "      <th>11449194</th>\n",
              "      <td>1386426</td>\n",
              "      <td>0</td>\n",
              "      <td>2016</td>\n",
              "      <td>Masculino</td>\n",
              "      <td>ANALISE E DESENVOLVIMENTO DE SISTEMAS</td>\n",
              "    </tr>\n",
              "    <tr>\n",
              "      <th>11449195</th>\n",
              "      <td>1386426</td>\n",
              "      <td>0</td>\n",
              "      <td>2016</td>\n",
              "      <td>Masculino</td>\n",
              "      <td>ANALISE E DESENVOLVIMENTO DE SISTEMAS</td>\n",
              "    </tr>\n",
              "    <tr>\n",
              "      <th>11449196</th>\n",
              "      <td>1386426</td>\n",
              "      <td>0</td>\n",
              "      <td>2016</td>\n",
              "      <td>Masculino</td>\n",
              "      <td>ANALISE E DESENVOLVIMENTO DE SISTEMAS</td>\n",
              "    </tr>\n",
              "    <tr>\n",
              "      <th>11449197</th>\n",
              "      <td>1386426</td>\n",
              "      <td>0</td>\n",
              "      <td>2016</td>\n",
              "      <td>Masculino</td>\n",
              "      <td>ANALISE E DESENVOLVIMENTO DE SISTEMAS</td>\n",
              "    </tr>\n",
              "    <tr>\n",
              "      <th>11449198</th>\n",
              "      <td>1386426</td>\n",
              "      <td>0</td>\n",
              "      <td>2016</td>\n",
              "      <td>Masculino</td>\n",
              "      <td>ANALISE E DESENVOLVIMENTO DE SISTEMAS</td>\n",
              "    </tr>\n",
              "    <tr>\n",
              "      <th>11449199</th>\n",
              "      <td>1386426</td>\n",
              "      <td>0</td>\n",
              "      <td>2016</td>\n",
              "      <td>Masculino</td>\n",
              "      <td>ANALISE E DESENVOLVIMENTO DE SISTEMAS</td>\n",
              "    </tr>\n",
              "    <tr>\n",
              "      <th>11449200</th>\n",
              "      <td>1386426</td>\n",
              "      <td>0</td>\n",
              "      <td>2016</td>\n",
              "      <td>Masculino</td>\n",
              "      <td>ANALISE E DESENVOLVIMENTO DE SISTEMAS</td>\n",
              "    </tr>\n",
              "    <tr>\n",
              "      <th>11449201</th>\n",
              "      <td>1386426</td>\n",
              "      <td>0</td>\n",
              "      <td>2016</td>\n",
              "      <td>Masculino</td>\n",
              "      <td>ANALISE E DESENVOLVIMENTO DE SISTEMAS</td>\n",
              "    </tr>\n",
              "    <tr>\n",
              "      <th>11449202</th>\n",
              "      <td>1386426</td>\n",
              "      <td>0</td>\n",
              "      <td>2016</td>\n",
              "      <td>Masculino</td>\n",
              "      <td>ANALISE E DESENVOLVIMENTO DE SISTEMAS</td>\n",
              "    </tr>\n",
              "    <tr>\n",
              "      <th>11449203</th>\n",
              "      <td>1386426</td>\n",
              "      <td>0</td>\n",
              "      <td>2016</td>\n",
              "      <td>Masculino</td>\n",
              "      <td>ANALISE E DESENVOLVIMENTO DE SISTEMAS</td>\n",
              "    </tr>\n",
              "    <tr>\n",
              "      <th>11449204</th>\n",
              "      <td>1386426</td>\n",
              "      <td>0</td>\n",
              "      <td>2016</td>\n",
              "      <td>Masculino</td>\n",
              "      <td>ANALISE E DESENVOLVIMENTO DE SISTEMAS</td>\n",
              "    </tr>\n",
              "    <tr>\n",
              "      <th>11449205</th>\n",
              "      <td>1386426</td>\n",
              "      <td>0</td>\n",
              "      <td>2016</td>\n",
              "      <td>Masculino</td>\n",
              "      <td>ANALISE E DESENVOLVIMENTO DE SISTEMAS</td>\n",
              "    </tr>\n",
              "    <tr>\n",
              "      <th>11449206</th>\n",
              "      <td>1386426</td>\n",
              "      <td>0</td>\n",
              "      <td>2016</td>\n",
              "      <td>Masculino</td>\n",
              "      <td>ANALISE E DESENVOLVIMENTO DE SISTEMAS</td>\n",
              "    </tr>\n",
              "    <tr>\n",
              "      <th>11449207</th>\n",
              "      <td>1386426</td>\n",
              "      <td>1</td>\n",
              "      <td>2016</td>\n",
              "      <td>Feminino</td>\n",
              "      <td>ANALISE E DESENVOLVIMENTO DE SISTEMAS</td>\n",
              "    </tr>\n",
              "    <tr>\n",
              "      <th>11449208</th>\n",
              "      <td>1386426</td>\n",
              "      <td>0</td>\n",
              "      <td>2016</td>\n",
              "      <td>Masculino</td>\n",
              "      <td>ANALISE E DESENVOLVIMENTO DE SISTEMAS</td>\n",
              "    </tr>\n",
              "    <tr>\n",
              "      <th>11449209</th>\n",
              "      <td>1386426</td>\n",
              "      <td>0</td>\n",
              "      <td>2016</td>\n",
              "      <td>Masculino</td>\n",
              "      <td>ANALISE E DESENVOLVIMENTO DE SISTEMAS</td>\n",
              "    </tr>\n",
              "    <tr>\n",
              "      <th>11449210</th>\n",
              "      <td>1386426</td>\n",
              "      <td>0</td>\n",
              "      <td>2016</td>\n",
              "      <td>Masculino</td>\n",
              "      <td>ANALISE E DESENVOLVIMENTO DE SISTEMAS</td>\n",
              "    </tr>\n",
              "    <tr>\n",
              "      <th>11449211</th>\n",
              "      <td>1386426</td>\n",
              "      <td>0</td>\n",
              "      <td>2016</td>\n",
              "      <td>Masculino</td>\n",
              "      <td>ANALISE E DESENVOLVIMENTO DE SISTEMAS</td>\n",
              "    </tr>\n",
              "    <tr>\n",
              "      <th>11449212</th>\n",
              "      <td>1386426</td>\n",
              "      <td>0</td>\n",
              "      <td>2016</td>\n",
              "      <td>Masculino</td>\n",
              "      <td>ANALISE E DESENVOLVIMENTO DE SISTEMAS</td>\n",
              "    </tr>\n",
              "    <tr>\n",
              "      <th>11449213</th>\n",
              "      <td>1386426</td>\n",
              "      <td>0</td>\n",
              "      <td>2016</td>\n",
              "      <td>Masculino</td>\n",
              "      <td>ANALISE E DESENVOLVIMENTO DE SISTEMAS</td>\n",
              "    </tr>\n",
              "    <tr>\n",
              "      <th>11449214</th>\n",
              "      <td>1386426</td>\n",
              "      <td>1</td>\n",
              "      <td>2016</td>\n",
              "      <td>Feminino</td>\n",
              "      <td>ANALISE E DESENVOLVIMENTO DE SISTEMAS</td>\n",
              "    </tr>\n",
              "    <tr>\n",
              "      <th>11449215</th>\n",
              "      <td>1386426</td>\n",
              "      <td>0</td>\n",
              "      <td>2016</td>\n",
              "      <td>Masculino</td>\n",
              "      <td>ANALISE E DESENVOLVIMENTO DE SISTEMAS</td>\n",
              "    </tr>\n",
              "    <tr>\n",
              "      <th>11449216</th>\n",
              "      <td>1386426</td>\n",
              "      <td>1</td>\n",
              "      <td>2016</td>\n",
              "      <td>Feminino</td>\n",
              "      <td>ANALISE E DESENVOLVIMENTO DE SISTEMAS</td>\n",
              "    </tr>\n",
              "    <tr>\n",
              "      <th>11449217</th>\n",
              "      <td>1386426</td>\n",
              "      <td>0</td>\n",
              "      <td>2016</td>\n",
              "      <td>Masculino</td>\n",
              "      <td>ANALISE E DESENVOLVIMENTO DE SISTEMAS</td>\n",
              "    </tr>\n",
              "    <tr>\n",
              "      <th>11449218</th>\n",
              "      <td>1386426</td>\n",
              "      <td>1</td>\n",
              "      <td>2016</td>\n",
              "      <td>Feminino</td>\n",
              "      <td>ANALISE E DESENVOLVIMENTO DE SISTEMAS</td>\n",
              "    </tr>\n",
              "    <tr>\n",
              "      <th>11449219</th>\n",
              "      <td>1386426</td>\n",
              "      <td>0</td>\n",
              "      <td>2016</td>\n",
              "      <td>Masculino</td>\n",
              "      <td>ANALISE E DESENVOLVIMENTO DE SISTEMAS</td>\n",
              "    </tr>\n",
              "    <tr>\n",
              "      <th>11449220</th>\n",
              "      <td>1386426</td>\n",
              "      <td>0</td>\n",
              "      <td>2016</td>\n",
              "      <td>Masculino</td>\n",
              "      <td>ANALISE E DESENVOLVIMENTO DE SISTEMAS</td>\n",
              "    </tr>\n",
              "    <tr>\n",
              "      <th>11449221</th>\n",
              "      <td>1386426</td>\n",
              "      <td>0</td>\n",
              "      <td>2016</td>\n",
              "      <td>Masculino</td>\n",
              "      <td>ANALISE E DESENVOLVIMENTO DE SISTEMAS</td>\n",
              "    </tr>\n",
              "  </tbody>\n",
              "</table>\n",
              "<p>390061 rows × 5 columns</p>\n",
              "</div>"
            ],
            "text/plain": [
              "          CO_CURSO  IN_SEXO_ALUNO   ANO       SEXO  \\\n",
              "149         120479              0  2009  Masculino   \n",
              "1412         59659              1  2009   Feminino   \n",
              "3482        128292              1  2009   Feminino   \n",
              "3600        128292              0  2009  Masculino   \n",
              "3938        121227              1  2009   Feminino   \n",
              "4174        121227              0  2009  Masculino   \n",
              "4496         68065              0  2009  Masculino   \n",
              "5404        128292              0  2009  Masculino   \n",
              "5635        121227              0  2009  Masculino   \n",
              "6205        121227              0  2009  Masculino   \n",
              "7654        121227              0  2009  Masculino   \n",
              "7987        121227              1  2009   Feminino   \n",
              "8089        113671              1  2009   Feminino   \n",
              "8410        127511              0  2009  Masculino   \n",
              "8513        111494              1  2009   Feminino   \n",
              "8600         60424              1  2009   Feminino   \n",
              "10075       121227              0  2009  Masculino   \n",
              "10650       121227              1  2009   Feminino   \n",
              "10965       121227              1  2009   Feminino   \n",
              "11612       121227              0  2009  Masculino   \n",
              "11716       121227              0  2009  Masculino   \n",
              "12464       128292              0  2009  Masculino   \n",
              "12643       121227              0  2009  Masculino   \n",
              "12843       111494              0  2009  Masculino   \n",
              "15614       121227              0  2009  Masculino   \n",
              "16302       111494              0  2009  Masculino   \n",
              "17651        91868              0  2009  Masculino   \n",
              "18587        70971              1  2009   Feminino   \n",
              "19996        75353              0  2009  Masculino   \n",
              "20505       121227              1  2009   Feminino   \n",
              "...            ...            ...   ...        ...   \n",
              "11449192   1386426              0  2016  Masculino   \n",
              "11449193   1386426              0  2016  Masculino   \n",
              "11449194   1386426              0  2016  Masculino   \n",
              "11449195   1386426              0  2016  Masculino   \n",
              "11449196   1386426              0  2016  Masculino   \n",
              "11449197   1386426              0  2016  Masculino   \n",
              "11449198   1386426              0  2016  Masculino   \n",
              "11449199   1386426              0  2016  Masculino   \n",
              "11449200   1386426              0  2016  Masculino   \n",
              "11449201   1386426              0  2016  Masculino   \n",
              "11449202   1386426              0  2016  Masculino   \n",
              "11449203   1386426              0  2016  Masculino   \n",
              "11449204   1386426              0  2016  Masculino   \n",
              "11449205   1386426              0  2016  Masculino   \n",
              "11449206   1386426              0  2016  Masculino   \n",
              "11449207   1386426              1  2016   Feminino   \n",
              "11449208   1386426              0  2016  Masculino   \n",
              "11449209   1386426              0  2016  Masculino   \n",
              "11449210   1386426              0  2016  Masculino   \n",
              "11449211   1386426              0  2016  Masculino   \n",
              "11449212   1386426              0  2016  Masculino   \n",
              "11449213   1386426              0  2016  Masculino   \n",
              "11449214   1386426              1  2016   Feminino   \n",
              "11449215   1386426              0  2016  Masculino   \n",
              "11449216   1386426              1  2016   Feminino   \n",
              "11449217   1386426              0  2016  Masculino   \n",
              "11449218   1386426              1  2016   Feminino   \n",
              "11449219   1386426              0  2016  Masculino   \n",
              "11449220   1386426              0  2016  Masculino   \n",
              "11449221   1386426              0  2016  Masculino   \n",
              "\n",
              "                                          CURSO  \n",
              "149       ANALISE E DESENVOLVIMENTO DE SISTEMAS  \n",
              "1412                                 COMPUTACAO  \n",
              "3482      ANALISE E DESENVOLVIMENTO DE SISTEMAS  \n",
              "3600      ANALISE E DESENVOLVIMENTO DE SISTEMAS  \n",
              "3938                                INFORMATICA  \n",
              "4174                                INFORMATICA  \n",
              "4496                                 COMPUTACAO  \n",
              "5404      ANALISE E DESENVOLVIMENTO DE SISTEMAS  \n",
              "5635                                INFORMATICA  \n",
              "6205                                INFORMATICA  \n",
              "7654                                INFORMATICA  \n",
              "7987                                INFORMATICA  \n",
              "8089                                 COMPUTACAO  \n",
              "8410                                 COMPUTACAO  \n",
              "8513                                INFORMATICA  \n",
              "8600                                INFORMATICA  \n",
              "10075                               INFORMATICA  \n",
              "10650                               INFORMATICA  \n",
              "10965                               INFORMATICA  \n",
              "11612                               INFORMATICA  \n",
              "11716                               INFORMATICA  \n",
              "12464     ANALISE E DESENVOLVIMENTO DE SISTEMAS  \n",
              "12643                               INFORMATICA  \n",
              "12843                               INFORMATICA  \n",
              "15614                               INFORMATICA  \n",
              "16302                               INFORMATICA  \n",
              "17651                               INFORMATICA  \n",
              "18587                               INFORMATICA  \n",
              "19996                               INFORMATICA  \n",
              "20505                               INFORMATICA  \n",
              "...                                         ...  \n",
              "11449192  ANALISE E DESENVOLVIMENTO DE SISTEMAS  \n",
              "11449193  ANALISE E DESENVOLVIMENTO DE SISTEMAS  \n",
              "11449194  ANALISE E DESENVOLVIMENTO DE SISTEMAS  \n",
              "11449195  ANALISE E DESENVOLVIMENTO DE SISTEMAS  \n",
              "11449196  ANALISE E DESENVOLVIMENTO DE SISTEMAS  \n",
              "11449197  ANALISE E DESENVOLVIMENTO DE SISTEMAS  \n",
              "11449198  ANALISE E DESENVOLVIMENTO DE SISTEMAS  \n",
              "11449199  ANALISE E DESENVOLVIMENTO DE SISTEMAS  \n",
              "11449200  ANALISE E DESENVOLVIMENTO DE SISTEMAS  \n",
              "11449201  ANALISE E DESENVOLVIMENTO DE SISTEMAS  \n",
              "11449202  ANALISE E DESENVOLVIMENTO DE SISTEMAS  \n",
              "11449203  ANALISE E DESENVOLVIMENTO DE SISTEMAS  \n",
              "11449204  ANALISE E DESENVOLVIMENTO DE SISTEMAS  \n",
              "11449205  ANALISE E DESENVOLVIMENTO DE SISTEMAS  \n",
              "11449206  ANALISE E DESENVOLVIMENTO DE SISTEMAS  \n",
              "11449207  ANALISE E DESENVOLVIMENTO DE SISTEMAS  \n",
              "11449208  ANALISE E DESENVOLVIMENTO DE SISTEMAS  \n",
              "11449209  ANALISE E DESENVOLVIMENTO DE SISTEMAS  \n",
              "11449210  ANALISE E DESENVOLVIMENTO DE SISTEMAS  \n",
              "11449211  ANALISE E DESENVOLVIMENTO DE SISTEMAS  \n",
              "11449212  ANALISE E DESENVOLVIMENTO DE SISTEMAS  \n",
              "11449213  ANALISE E DESENVOLVIMENTO DE SISTEMAS  \n",
              "11449214  ANALISE E DESENVOLVIMENTO DE SISTEMAS  \n",
              "11449215  ANALISE E DESENVOLVIMENTO DE SISTEMAS  \n",
              "11449216  ANALISE E DESENVOLVIMENTO DE SISTEMAS  \n",
              "11449217  ANALISE E DESENVOLVIMENTO DE SISTEMAS  \n",
              "11449218  ANALISE E DESENVOLVIMENTO DE SISTEMAS  \n",
              "11449219  ANALISE E DESENVOLVIMENTO DE SISTEMAS  \n",
              "11449220  ANALISE E DESENVOLVIMENTO DE SISTEMAS  \n",
              "11449221  ANALISE E DESENVOLVIMENTO DE SISTEMAS  \n",
              "\n",
              "[390061 rows x 5 columns]"
            ]
          },
          "metadata": {
            "tags": []
          },
          "execution_count": 9
        }
      ]
    },
    {
      "metadata": {
        "id": "WCJdOu63S4c1",
        "colab_type": "text"
      },
      "cell_type": "markdown",
      "source": [
        "O isnull analisa se existe algum campo vazio (null, NAN)"
      ]
    },
    {
      "metadata": {
        "id": "GbY12e0mSAT7",
        "colab_type": "code",
        "outputId": "21cbb7b6-0717-4965-c6f5-849b155df00d",
        "colab": {
          "base_uri": "https://localhost:8080/",
          "height": 121
        }
      },
      "cell_type": "code",
      "source": [
        "data.isnull().sum()"
      ],
      "execution_count": 0,
      "outputs": [
        {
          "output_type": "execute_result",
          "data": {
            "text/plain": [
              "CO_CURSO         0\n",
              "IN_SEXO_ALUNO    0\n",
              "ANO              0\n",
              "SEXO             0\n",
              "CURSO            0\n",
              "dtype: int64"
            ]
          },
          "metadata": {
            "tags": []
          },
          "execution_count": 21
        }
      ]
    },
    {
      "metadata": {
        "id": "-wunfONsemGv",
        "colab_type": "code",
        "outputId": "23dde3cb-88c6-4287-b70d-b5d11ae707d0",
        "colab": {
          "base_uri": "https://localhost:8080/",
          "height": 206
        }
      },
      "cell_type": "code",
      "source": [
        "data.head()"
      ],
      "execution_count": 0,
      "outputs": [
        {
          "output_type": "execute_result",
          "data": {
            "text/html": [
              "<div>\n",
              "<style scoped>\n",
              "    .dataframe tbody tr th:only-of-type {\n",
              "        vertical-align: middle;\n",
              "    }\n",
              "\n",
              "    .dataframe tbody tr th {\n",
              "        vertical-align: top;\n",
              "    }\n",
              "\n",
              "    .dataframe thead th {\n",
              "        text-align: right;\n",
              "    }\n",
              "</style>\n",
              "<table border=\"1\" class=\"dataframe\">\n",
              "  <thead>\n",
              "    <tr style=\"text-align: right;\">\n",
              "      <th></th>\n",
              "      <th>CO_CURSO</th>\n",
              "      <th>IN_SEXO_ALUNO</th>\n",
              "      <th>ANO</th>\n",
              "      <th>SEXO</th>\n",
              "      <th>CURSO</th>\n",
              "    </tr>\n",
              "  </thead>\n",
              "  <tbody>\n",
              "    <tr>\n",
              "      <th>149</th>\n",
              "      <td>120479</td>\n",
              "      <td>0</td>\n",
              "      <td>2009</td>\n",
              "      <td>Masculino</td>\n",
              "      <td>ANALISE E DESENVOLVIMENTO DE SISTEMAS</td>\n",
              "    </tr>\n",
              "    <tr>\n",
              "      <th>1412</th>\n",
              "      <td>59659</td>\n",
              "      <td>1</td>\n",
              "      <td>2009</td>\n",
              "      <td>Feminino</td>\n",
              "      <td>COMPUTACAO</td>\n",
              "    </tr>\n",
              "    <tr>\n",
              "      <th>3482</th>\n",
              "      <td>128292</td>\n",
              "      <td>1</td>\n",
              "      <td>2009</td>\n",
              "      <td>Feminino</td>\n",
              "      <td>ANALISE E DESENVOLVIMENTO DE SISTEMAS</td>\n",
              "    </tr>\n",
              "    <tr>\n",
              "      <th>3600</th>\n",
              "      <td>128292</td>\n",
              "      <td>0</td>\n",
              "      <td>2009</td>\n",
              "      <td>Masculino</td>\n",
              "      <td>ANALISE E DESENVOLVIMENTO DE SISTEMAS</td>\n",
              "    </tr>\n",
              "    <tr>\n",
              "      <th>3938</th>\n",
              "      <td>121227</td>\n",
              "      <td>1</td>\n",
              "      <td>2009</td>\n",
              "      <td>Feminino</td>\n",
              "      <td>INFORMATICA</td>\n",
              "    </tr>\n",
              "  </tbody>\n",
              "</table>\n",
              "</div>"
            ],
            "text/plain": [
              "      CO_CURSO  IN_SEXO_ALUNO   ANO       SEXO  \\\n",
              "149     120479              0  2009  Masculino   \n",
              "1412     59659              1  2009   Feminino   \n",
              "3482    128292              1  2009   Feminino   \n",
              "3600    128292              0  2009  Masculino   \n",
              "3938    121227              1  2009   Feminino   \n",
              "\n",
              "                                      CURSO  \n",
              "149   ANALISE E DESENVOLVIMENTO DE SISTEMAS  \n",
              "1412                             COMPUTACAO  \n",
              "3482  ANALISE E DESENVOLVIMENTO DE SISTEMAS  \n",
              "3600  ANALISE E DESENVOLVIMENTO DE SISTEMAS  \n",
              "3938                            INFORMATICA  "
            ]
          },
          "metadata": {
            "tags": []
          },
          "execution_count": 10
        }
      ]
    },
    {
      "metadata": {
        "id": "8j2oKAr_kPgM",
        "colab_type": "text"
      },
      "cell_type": "markdown",
      "source": [
        "Para saber os valores diferentes existente em cada coluna"
      ]
    },
    {
      "metadata": {
        "id": "rBdWf9NzFsmJ",
        "colab_type": "code",
        "outputId": "c3053a7e-8ea8-4b63-96fb-fbea604cebf8",
        "colab": {
          "base_uri": "https://localhost:8080/",
          "height": 121
        }
      },
      "cell_type": "code",
      "source": [
        "data.nunique()"
      ],
      "execution_count": 0,
      "outputs": [
        {
          "output_type": "execute_result",
          "data": {
            "text/plain": [
              "CO_CURSO         444\n",
              "IN_SEXO_ALUNO      2\n",
              "ANO                8\n",
              "SEXO               2\n",
              "CURSO              4\n",
              "dtype: int64"
            ]
          },
          "metadata": {
            "tags": []
          },
          "execution_count": 11
        }
      ]
    },
    {
      "metadata": {
        "id": "qIVnVHGEkc2Y",
        "colab_type": "text"
      },
      "cell_type": "markdown",
      "source": [
        "Para saber os diferentes itens que estão listados no dataset"
      ]
    },
    {
      "metadata": {
        "id": "fxZ2f2GQHQlT",
        "colab_type": "code",
        "outputId": "4a4a495d-ac2f-4822-9758-2750be3d9cb3",
        "colab": {
          "base_uri": "https://localhost:8080/",
          "height": 52
        }
      },
      "cell_type": "code",
      "source": [
        "data['CURSO'].unique()"
      ],
      "execution_count": 0,
      "outputs": [
        {
          "output_type": "execute_result",
          "data": {
            "text/plain": [
              "array(['ANALISE E DESENVOLVIMENTO DE SISTEMAS', 'COMPUTACAO',\n",
              "       'INFORMATICA', 'TECNOLOGIA DA INFORMACAO'], dtype=object)"
            ]
          },
          "metadata": {
            "tags": []
          },
          "execution_count": 12
        }
      ]
    },
    {
      "metadata": {
        "id": "WJj_XXNxkqTm",
        "colab_type": "text"
      },
      "cell_type": "markdown",
      "source": [
        "Para saber quantas vezes cada item diferente aparece."
      ]
    },
    {
      "metadata": {
        "id": "8WwxAytOIEbB",
        "colab_type": "code",
        "outputId": "659309b3-f4bc-49b2-a6a0-19554dc92fdc",
        "colab": {
          "base_uri": "https://localhost:8080/",
          "height": 104
        }
      },
      "cell_type": "code",
      "source": [
        "data['CURSO'].value_counts()"
      ],
      "execution_count": 0,
      "outputs": [
        {
          "output_type": "execute_result",
          "data": {
            "text/plain": [
              "ANALISE E DESENVOLVIMENTO DE SISTEMAS    273731\n",
              "INFORMATICA                               73263\n",
              "COMPUTACAO                                39623\n",
              "TECNOLOGIA DA INFORMACAO                   3444\n",
              "Name: CURSO, dtype: int64"
            ]
          },
          "metadata": {
            "tags": []
          },
          "execution_count": 13
        }
      ]
    },
    {
      "metadata": {
        "id": "bYF0bUVRQjz4",
        "colab_type": "text"
      },
      "cell_type": "markdown",
      "source": [
        "A função crosstab é para cruzar as informações de curso e sexo."
      ]
    },
    {
      "metadata": {
        "id": "MNPQZ6Cf_6K6",
        "colab_type": "code",
        "outputId": "05e1cbdf-cf48-4a4f-c863-bbf228276a71",
        "colab": {
          "base_uri": "https://localhost:8080/",
          "height": 206
        }
      },
      "cell_type": "code",
      "source": [
        "pd.crosstab(data['CURSO'],data['SEXO'])"
      ],
      "execution_count": 0,
      "outputs": [
        {
          "output_type": "execute_result",
          "data": {
            "text/html": [
              "<div>\n",
              "<style scoped>\n",
              "    .dataframe tbody tr th:only-of-type {\n",
              "        vertical-align: middle;\n",
              "    }\n",
              "\n",
              "    .dataframe tbody tr th {\n",
              "        vertical-align: top;\n",
              "    }\n",
              "\n",
              "    .dataframe thead th {\n",
              "        text-align: right;\n",
              "    }\n",
              "</style>\n",
              "<table border=\"1\" class=\"dataframe\">\n",
              "  <thead>\n",
              "    <tr style=\"text-align: right;\">\n",
              "      <th>SEXO</th>\n",
              "      <th>Feminino</th>\n",
              "      <th>Masculino</th>\n",
              "    </tr>\n",
              "    <tr>\n",
              "      <th>CURSO</th>\n",
              "      <th></th>\n",
              "      <th></th>\n",
              "    </tr>\n",
              "  </thead>\n",
              "  <tbody>\n",
              "    <tr>\n",
              "      <th>ANALISE E DESENVOLVIMENTO DE SISTEMAS</th>\n",
              "      <td>40605</td>\n",
              "      <td>233126</td>\n",
              "    </tr>\n",
              "    <tr>\n",
              "      <th>COMPUTACAO</th>\n",
              "      <td>12103</td>\n",
              "      <td>27520</td>\n",
              "    </tr>\n",
              "    <tr>\n",
              "      <th>INFORMATICA</th>\n",
              "      <td>19877</td>\n",
              "      <td>53386</td>\n",
              "    </tr>\n",
              "    <tr>\n",
              "      <th>TECNOLOGIA DA INFORMACAO</th>\n",
              "      <td>503</td>\n",
              "      <td>2941</td>\n",
              "    </tr>\n",
              "  </tbody>\n",
              "</table>\n",
              "</div>"
            ],
            "text/plain": [
              "SEXO                                   Feminino  Masculino\n",
              "CURSO                                                     \n",
              "ANALISE E DESENVOLVIMENTO DE SISTEMAS     40605     233126\n",
              "COMPUTACAO                                12103      27520\n",
              "INFORMATICA                               19877      53386\n",
              "TECNOLOGIA DA INFORMACAO                    503       2941"
            ]
          },
          "metadata": {
            "tags": []
          },
          "execution_count": 16
        }
      ]
    },
    {
      "metadata": {
        "id": "zv_N4-NmSW_3",
        "colab_type": "text"
      },
      "cell_type": "markdown",
      "source": [
        "Bliblioteca para gráfico."
      ]
    },
    {
      "metadata": {
        "id": "rJ3kpXxor1Cv",
        "colab_type": "code",
        "colab": {}
      },
      "cell_type": "code",
      "source": [
        "import matplotlib.pyplot as plt\n",
        "import matplotlib.patches as mpatches"
      ],
      "execution_count": 0,
      "outputs": []
    },
    {
      "metadata": {
        "id": "qaS1F_MmQ3Kz",
        "colab_type": "text"
      },
      "cell_type": "markdown",
      "source": [
        "Gráfico plotado do curso x sexo"
      ]
    },
    {
      "metadata": {
        "id": "XwgW4jjNBiNw",
        "colab_type": "code",
        "outputId": "3af9f8b9-63f6-42b9-fbf4-8ff3ef1632b8",
        "colab": {
          "base_uri": "https://localhost:8080/",
          "height": 608
        }
      },
      "cell_type": "code",
      "source": [
        "curso_sexo = pd.crosstab(data['CURSO'],data['SEXO'])\n",
        "curso_sexo.plot(kind='bar',width=0.5, color=['red','blue'], title='Inserção Mulheres x Homens no Curso de TI' ,grid=False)"
      ],
      "execution_count": 0,
      "outputs": [
        {
          "output_type": "execute_result",
          "data": {
            "text/plain": [
              "<matplotlib.axes._subplots.AxesSubplot at 0x7fedb7f263c8>"
            ]
          },
          "metadata": {
            "tags": []
          },
          "execution_count": 17
        },
        {
          "output_type": "display_data",
          "data": {
            "image/png": "[encoded data removed]",
            "text/plain": [
              "<matplotlib.figure.Figure at 0x7fedb7f26b70>"
            ]
          },
          "metadata": {
            "tags": []
          }
        }
      ]
    },
    {
      "metadata": {
        "id": "JQ5joK-XRSl1",
        "colab_type": "text"
      },
      "cell_type": "markdown",
      "source": [
        "Informações sobre os anos e sexo."
      ]
    },
    {
      "metadata": {
        "id": "Tty5oVJWm9gQ",
        "colab_type": "code",
        "outputId": "ef9899ff-5f9d-4721-d873-66142d311ea5",
        "colab": {
          "base_uri": "https://localhost:8080/",
          "height": 332
        }
      },
      "cell_type": "code",
      "source": [
        "pd.crosstab(data['ANO'],data['SEXO'])"
      ],
      "execution_count": 0,
      "outputs": [
        {
          "output_type": "execute_result",
          "data": {
            "text/html": [
              "<div>\n",
              "<style scoped>\n",
              "    .dataframe tbody tr th:only-of-type {\n",
              "        vertical-align: middle;\n",
              "    }\n",
              "\n",
              "    .dataframe tbody tr th {\n",
              "        vertical-align: top;\n",
              "    }\n",
              "\n",
              "    .dataframe thead th {\n",
              "        text-align: right;\n",
              "    }\n",
              "</style>\n",
              "<table border=\"1\" class=\"dataframe\">\n",
              "  <thead>\n",
              "    <tr style=\"text-align: right;\">\n",
              "      <th>SEXO</th>\n",
              "      <th>Feminino</th>\n",
              "      <th>Masculino</th>\n",
              "    </tr>\n",
              "    <tr>\n",
              "      <th>ANO</th>\n",
              "      <th></th>\n",
              "      <th></th>\n",
              "    </tr>\n",
              "  </thead>\n",
              "  <tbody>\n",
              "    <tr>\n",
              "      <th>2009</th>\n",
              "      <td>3211</td>\n",
              "      <td>10016</td>\n",
              "    </tr>\n",
              "    <tr>\n",
              "      <th>2010</th>\n",
              "      <td>4525</td>\n",
              "      <td>14887</td>\n",
              "    </tr>\n",
              "    <tr>\n",
              "      <th>2011</th>\n",
              "      <td>6186</td>\n",
              "      <td>22132</td>\n",
              "    </tr>\n",
              "    <tr>\n",
              "      <th>2012</th>\n",
              "      <td>8231</td>\n",
              "      <td>31624</td>\n",
              "    </tr>\n",
              "    <tr>\n",
              "      <th>2013</th>\n",
              "      <td>10019</td>\n",
              "      <td>41002</td>\n",
              "    </tr>\n",
              "    <tr>\n",
              "      <th>2014</th>\n",
              "      <td>12570</td>\n",
              "      <td>55299</td>\n",
              "    </tr>\n",
              "    <tr>\n",
              "      <th>2015</th>\n",
              "      <td>13637</td>\n",
              "      <td>66068</td>\n",
              "    </tr>\n",
              "    <tr>\n",
              "      <th>2016</th>\n",
              "      <td>14709</td>\n",
              "      <td>75945</td>\n",
              "    </tr>\n",
              "  </tbody>\n",
              "</table>\n",
              "</div>"
            ],
            "text/plain": [
              "SEXO  Feminino  Masculino\n",
              "ANO                      \n",
              "2009      3211      10016\n",
              "2010      4525      14887\n",
              "2011      6186      22132\n",
              "2012      8231      31624\n",
              "2013     10019      41002\n",
              "2014     12570      55299\n",
              "2015     13637      66068\n",
              "2016     14709      75945"
            ]
          },
          "metadata": {
            "tags": []
          },
          "execution_count": 18
        }
      ]
    },
    {
      "metadata": {
        "id": "2_Cmi3DwRZrp",
        "colab_type": "text"
      },
      "cell_type": "markdown",
      "source": [
        "Gráfico plotado referente aos anos x sexo"
      ]
    },
    {
      "metadata": {
        "id": "6WNxmJ4aLwwu",
        "colab_type": "code",
        "outputId": "37756f84-0579-4e02-a2ef-860869c56732",
        "colab": {
          "base_uri": "https://localhost:8080/",
          "height": 405
        }
      },
      "cell_type": "code",
      "source": [
        "curso_ano = pd.crosstab(data['ANO'],data['SEXO'])\n",
        "curso_ano.plot(kind='bar',width=0.5, color=['red','blue'], title='Inserção Mulheres x Homens no Curso de TI entre os anos de 2009 a 2016 no Brasil' ,grid=False)"
      ],
      "execution_count": 0,
      "outputs": [
        {
          "output_type": "execute_result",
          "data": {
            "text/plain": [
              "<matplotlib.axes._subplots.AxesSubplot at 0x7fedb84e5c50>"
            ]
          },
          "metadata": {
            "tags": []
          },
          "execution_count": 20
        },
        {
          "output_type": "display_data",
          "data": {
            "image/png": "[encoded data removed]",
            "text/plain": [
              "<matplotlib.figure.Figure at 0x7fedb84f5550>"
            ]
          },
          "metadata": {
            "tags": []
          }
        }
      ]
    }
  ]
}